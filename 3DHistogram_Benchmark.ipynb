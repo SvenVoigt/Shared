{
 "cells": [
  {
   "cell_type": "code",
   "execution_count": 1,
   "metadata": {},
   "outputs": [],
   "source": [
    "import numpy as np\n",
    "import time\n",
    "from numba import jit"
   ]
  },
  {
   "cell_type": "code",
   "execution_count": 2,
   "metadata": {},
   "outputs": [],
   "source": [
    "np.random.seed(0)\n",
    "A = np.random.rand(100000,3)*500\n",
    "\n",
    "x_bins = np.linspace(0, 500, num=50)\n",
    "\n",
    "@jit\n",
    "def count_3D_simple(A, x_bins, y_bins, z_bins):\n",
    "    \n",
    "    hist = np.zeros((len(x_bins)-1, len(y_bins)-1, len(z_bins)-1))\n",
    "    \n",
    "    for i in range(len(x_bins)-1):\n",
    "        for j in range(len(y_bins)-1):\n",
    "            for k in range(len(z_bins)-1):\n",
    "                hist[i,j,k] = np.sum((A[:,0] >= x_bins[i]) * (A[:,0] < x_bins[i+1]) * \n",
    "                                     (A[:,1] >= y_bins[j]) * (A[:,1] < y_bins[j+1]) * \n",
    "                                     (A[:,2] >= z_bins[k]) * (A[:,2] < z_bins[k+1]))\n",
    "                \n",
    "    return hist\n",
    "\n",
    "@jit\n",
    "def count_3D_optimized(A, x_bins, y_bins, z_bins):\n",
    "\n",
    "    hist = np.zeros((len(x_bins)-1, len(y_bins)-1, len(z_bins)-1))\n",
    "\n",
    "    for i in range(len(x_bins)-1):\n",
    "        a = A[:,0] >= x_bins[i]\n",
    "        np.less(A[:,0], x_bins[i+1], out=a, where=a)\n",
    "        \n",
    "        for j in range(len(y_bins)-1):\n",
    "            b = a.copy()\n",
    "            np.greater_equal(A[:,1], y_bins[j], out=b, where=b)\n",
    "            np.less(A[:,1], y_bins[j+1], out=b, where=b)\n",
    "            \n",
    "            for k in range(len(z_bins)-1):\n",
    "                c = b.copy()\n",
    "                np.greater_equal(A[:,2], z_bins[k], out=c, where=c)\n",
    "                np.less(A[:,2], z_bins[k+1], out=c, where=c)\n",
    "                \n",
    "                hist[i,j,k] = np.sum(c)\n",
    "\n",
    "    return hist"
   ]
  },
  {
   "cell_type": "code",
   "execution_count": 3,
   "metadata": {},
   "outputs": [
    {
     "name": "stdout",
     "output_type": "stream",
     "text": [
      "Seconds to complete: 42.26777148246765\n"
     ]
    }
   ],
   "source": [
    "t0 = time.time()\n",
    "\n",
    "hist1 = count_3D_simple(A, x_bins, x_bins, x_bins)\n",
    "\n",
    "print('Seconds to complete:', time.time()-t0)"
   ]
  },
  {
   "cell_type": "code",
   "execution_count": 4,
   "metadata": {},
   "outputs": [
    {
     "name": "stdout",
     "output_type": "stream",
     "text": [
      "Seconds to complete: 21.16849994659424\n"
     ]
    }
   ],
   "source": [
    "t0 = time.time()\n",
    "\n",
    "hist2 = count_3D_optimized(A, x_bins, x_bins, x_bins)\n",
    "\n",
    "print('Seconds to complete:', time.time()-t0)"
   ]
  },
  {
   "cell_type": "code",
   "execution_count": 5,
   "metadata": {},
   "outputs": [
    {
     "data": {
      "text/plain": [
       "True"
      ]
     },
     "execution_count": 5,
     "metadata": {},
     "output_type": "execute_result"
    }
   ],
   "source": [
    "np.allclose(hist1,hist2)"
   ]
  },
  {
   "cell_type": "code",
   "execution_count": 6,
   "metadata": {},
   "outputs": [
    {
     "data": {
      "text/plain": [
       "array([[[0., 4., 1., ..., 0., 0., 2.],\n",
       "        [3., 2., 1., ..., 2., 1., 1.],\n",
       "        [1., 4., 0., ..., 1., 0., 0.],\n",
       "        ...,\n",
       "        [0., 0., 4., ..., 4., 1., 2.],\n",
       "        [1., 0., 0., ..., 1., 1., 2.],\n",
       "        [1., 1., 2., ..., 1., 1., 0.]],\n",
       "\n",
       "       [[1., 0., 5., ..., 3., 1., 1.],\n",
       "        [0., 3., 0., ..., 3., 2., 0.],\n",
       "        [1., 1., 2., ..., 1., 0., 0.],\n",
       "        ...,\n",
       "        [1., 0., 0., ..., 1., 1., 1.],\n",
       "        [0., 0., 1., ..., 1., 2., 0.],\n",
       "        [2., 0., 1., ..., 1., 1., 0.]],\n",
       "\n",
       "       [[2., 1., 2., ..., 0., 0., 1.],\n",
       "        [1., 1., 1., ..., 0., 0., 0.],\n",
       "        [0., 0., 1., ..., 1., 0., 0.],\n",
       "        ...,\n",
       "        [1., 1., 0., ..., 0., 1., 2.],\n",
       "        [1., 0., 1., ..., 2., 1., 2.],\n",
       "        [0., 1., 0., ..., 1., 0., 0.]],\n",
       "\n",
       "       ...,\n",
       "\n",
       "       [[0., 1., 0., ..., 1., 0., 1.],\n",
       "        [0., 2., 1., ..., 1., 0., 1.],\n",
       "        [1., 2., 0., ..., 0., 1., 2.],\n",
       "        ...,\n",
       "        [0., 0., 1., ..., 0., 1., 3.],\n",
       "        [0., 0., 0., ..., 3., 2., 1.],\n",
       "        [0., 1., 1., ..., 0., 1., 2.]],\n",
       "\n",
       "       [[2., 0., 3., ..., 3., 0., 0.],\n",
       "        [0., 2., 1., ..., 2., 0., 1.],\n",
       "        [1., 1., 0., ..., 2., 0., 0.],\n",
       "        ...,\n",
       "        [0., 0., 0., ..., 1., 1., 1.],\n",
       "        [2., 0., 0., ..., 2., 1., 1.],\n",
       "        [0., 1., 2., ..., 1., 0., 1.]],\n",
       "\n",
       "       [[3., 0., 1., ..., 0., 0., 0.],\n",
       "        [2., 0., 1., ..., 1., 1., 1.],\n",
       "        [0., 2., 3., ..., 1., 4., 1.],\n",
       "        ...,\n",
       "        [0., 1., 2., ..., 1., 2., 0.],\n",
       "        [1., 2., 1., ..., 0., 0., 1.],\n",
       "        [0., 1., 0., ..., 1., 1., 1.]]])"
      ]
     },
     "execution_count": 6,
     "metadata": {},
     "output_type": "execute_result"
    }
   ],
   "source": [
    "hist1"
   ]
  },
  {
   "cell_type": "code",
   "execution_count": null,
   "metadata": {},
   "outputs": [],
   "source": []
  }
 ],
 "metadata": {
  "kernelspec": {
   "display_name": "Python 3",
   "language": "python",
   "name": "python3"
  },
  "language_info": {
   "codemirror_mode": {
    "name": "ipython",
    "version": 3
   },
   "file_extension": ".py",
   "mimetype": "text/x-python",
   "name": "python",
   "nbconvert_exporter": "python",
   "pygments_lexer": "ipython3",
   "version": "3.6.5"
  }
 },
 "nbformat": 4,
 "nbformat_minor": 2
}
