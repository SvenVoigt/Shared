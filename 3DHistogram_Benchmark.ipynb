{
 "cells": [
  {
   "cell_type": "code",
   "execution_count": 1,
   "metadata": {},
   "outputs": [],
   "source": [
    "import numpy as np\n",
    "import time\n",
    "from numba import jit, njit"
   ]
  },
  {
   "cell_type": "code",
   "execution_count": 2,
   "metadata": {},
   "outputs": [],
   "source": [
    "np.random.seed(0)\n",
    "A = np.random.rand(50000,3)*500\n",
    "\n",
    "x_bins = np.linspace(0, 500, num=50)\n",
    "\n",
    "@jit\n",
    "def count_3D_least_loops(A, x_bins, y_bins, z_bins):\n",
    "    \n",
    "    hist = np.zeros((len(x_bins)-1, len(y_bins)-1, len(z_bins)-1))\n",
    "    \n",
    "    for i in range(len(x_bins)-1):\n",
    "        for j in range(len(y_bins)-1):\n",
    "            for k in range(len(z_bins)-1):\n",
    "                hist[i,j,k] = np.sum((A[:,0] >= x_bins[i]) * (A[:,0] < x_bins[i+1]) * \n",
    "                                     (A[:,1] >= y_bins[j]) * (A[:,1] < y_bins[j+1]) * \n",
    "                                     (A[:,2] >= z_bins[k]) * (A[:,2] < z_bins[k+1]))\n",
    "                \n",
    "    return hist\n",
    "\n",
    "@jit\n",
    "def count_3D_least_loops_optimized(A, x_bins, y_bins, z_bins):\n",
    "\n",
    "    hist = np.zeros((len(x_bins)-1, len(y_bins)-1, len(z_bins)-1))\n",
    "\n",
    "    for i in range(len(x_bins)-1):\n",
    "        a = A[:,0] >= x_bins[i]\n",
    "        np.less(A[:,0], x_bins[i+1], out=a, where=a)\n",
    "        \n",
    "        for j in range(len(y_bins)-1):\n",
    "            b = a.copy()\n",
    "            np.greater_equal(A[:,1], y_bins[j], out=b, where=b)\n",
    "            np.less(A[:,1], y_bins[j+1], out=b, where=b)\n",
    "            \n",
    "            for k in range(len(z_bins)-1):\n",
    "                c = b.copy()\n",
    "                np.greater_equal(A[:,2], z_bins[k], out=c, where=c)\n",
    "                np.less(A[:,2], z_bins[k+1], out=c, where=c)\n",
    "                \n",
    "                hist[i,j,k] = np.sum(c)\n",
    "\n",
    "    return hist\n",
    "\n",
    "@jit\n",
    "def count_3D_least_loops_hist_outside(A, hist, x_bins, y_bins, z_bins):\n",
    "\n",
    "    for i in range(len(x_bins)-1):\n",
    "        a = A[:,0] >= x_bins[i]\n",
    "        np.less(A[:,0], x_bins[i+1], out=a, where=a)\n",
    "        \n",
    "        for j in range(len(y_bins)-1):\n",
    "            b = a.copy()\n",
    "            np.greater_equal(A[:,1], y_bins[j], out=b, where=b)\n",
    "            np.less(A[:,1], y_bins[j+1], out=b, where=b)\n",
    "            \n",
    "            for k in range(len(z_bins)-1):\n",
    "                c = b.copy()\n",
    "                np.greater_equal(A[:,2], z_bins[k], out=c, where=c)\n",
    "                np.less(A[:,2], z_bins[k+1], out=c, where=c)\n",
    "                \n",
    "                hist[i,j,k] = np.sum(c)\n",
    "\n",
    "    return hist\n",
    "\n",
    "@jit\n",
    "def count_3D_atoms(A, x_bins, y_bins, z_bins):\n",
    "    \n",
    "    hist = np.zeros((len(x_bins)-1, len(y_bins)-1, len(z_bins)-1))\n",
    "    \n",
    "    for i in range(A.shape[0]):\n",
    "        for x in range(len(x_bins)-1):\n",
    "            if A[i,0] >= x_bins[x]:\n",
    "                if A[i,0] < x_bins[x+1]:\n",
    "                    a = x\n",
    "                    break\n",
    "        for y in range(len(y_bins)-1):\n",
    "            if A[i,1] >= y_bins[y]:\n",
    "                if A[i,1] < y_bins[y+1]:\n",
    "                    b = y\n",
    "                    break\n",
    "        for z in range(len(z_bins)-1):\n",
    "            if A[i,2] >= z_bins[z]:\n",
    "                if A[i,2] < z_bins[z+1]:\n",
    "                    c = z\n",
    "                    break\n",
    "                \n",
    "        hist[a,b,c] += 1\n",
    "\n",
    "    return hist\n",
    "\n",
    "def count_3D_atoms_no_jit(A, x_bins, y_bins, z_bins):\n",
    "\n",
    "    hist = np.zeros((len(x_bins)-1, len(y_bins)-1, len(z_bins)-1))\n",
    "    \n",
    "    for i in range(A.shape[0]):\n",
    "        for x in range(len(x_bins)-1):\n",
    "            if A[i,0] >= x_bins[x]:\n",
    "                if A[i,0] < x_bins[x+1]:\n",
    "                    a = x\n",
    "                    break\n",
    "        for y in range(len(y_bins)-1):\n",
    "            if A[i,1] >= y_bins[y]:\n",
    "                if A[i,1] < y_bins[y+1]:\n",
    "                    b = y\n",
    "                    break\n",
    "        for z in range(len(z_bins)-1):\n",
    "            if A[i,2] >= z_bins[z]:\n",
    "                if A[i,2] < z_bins[z+1]:\n",
    "                    c = z\n",
    "                    break\n",
    "                \n",
    "        hist[a,b,c] += 1\n",
    "\n",
    "    return hist\n",
    "\n",
    "@jit\n",
    "def count_3D_atoms_hist_outside(A, hist, x_bins, y_bins, z_bins):\n",
    "    \n",
    "    for i in range(A.shape[0]):\n",
    "        for x in range(len(x_bins)-1):\n",
    "            if A[i,0] >= x_bins[x]:\n",
    "                if A[i,0] < x_bins[x+1]:\n",
    "                    a = x\n",
    "                    break\n",
    "        for y in range(len(y_bins)-1):\n",
    "            if A[i,1] >= y_bins[y]:\n",
    "                if A[i,1] < y_bins[y+1]:\n",
    "                    b = y\n",
    "                    break\n",
    "        for z in range(len(z_bins)-1):\n",
    "            if A[i,2] >= z_bins[z]:\n",
    "                if A[i,2] < z_bins[z+1]:\n",
    "                    c = z\n",
    "                    break\n",
    "                \n",
    "        hist[a,b,c] += 1\n",
    "\n",
    "    return hist"
   ]
  },
  {
   "cell_type": "code",
   "execution_count": 3,
   "metadata": {},
   "outputs": [
    {
     "name": "stdout",
     "output_type": "stream",
     "text": [
      "Seconds to complete: 21.405205249786377\n",
      "True\n"
     ]
    }
   ],
   "source": [
    "t0 = time.time()\n",
    "\n",
    "hist1 = count_3D_least_loops(A, x_bins, x_bins, x_bins)\n",
    "\n",
    "print('Seconds to complete:', time.time()-t0)\n",
    "print(np.allclose(hist1,hist1))"
   ]
  },
  {
   "cell_type": "code",
   "execution_count": 4,
   "metadata": {},
   "outputs": [
    {
     "name": "stdout",
     "output_type": "stream",
     "text": [
      "Seconds to complete: 12.735662460327148\n",
      "True\n"
     ]
    }
   ],
   "source": [
    "t0 = time.time()\n",
    "\n",
    "hist2 = count_3D_least_loops_optimized(A, x_bins, x_bins, x_bins)\n",
    "\n",
    "print('Seconds to complete:', time.time()-t0)\n",
    "print(np.allclose(hist1,hist2))"
   ]
  },
  {
   "cell_type": "code",
   "execution_count": 5,
   "metadata": {},
   "outputs": [
    {
     "name": "stdout",
     "output_type": "stream",
     "text": [
      "Seconds to complete: 12.51089859008789\n",
      "True\n"
     ]
    }
   ],
   "source": [
    "t0 = time.time()\n",
    "\n",
    "hist3 = np.zeros((len(x_bins)-1, len(x_bins)-1, len(x_bins)-1))\n",
    "\n",
    "hist3 = count_3D_least_loops_hist_outside(A, hist3, x_bins, x_bins, x_bins)\n",
    "\n",
    "print('Seconds to complete:', time.time()-t0)\n",
    "print(np.allclose(hist1,hist3))"
   ]
  },
  {
   "cell_type": "code",
   "execution_count": 6,
   "metadata": {},
   "outputs": [
    {
     "name": "stdout",
     "output_type": "stream",
     "text": [
      "Seconds to complete: 0.2802243232727051\n",
      "True\n"
     ]
    }
   ],
   "source": [
    "t0 = time.time()\n",
    "\n",
    "hist4 = count_3D_atoms(A, x_bins, x_bins, x_bins)\n",
    "\n",
    "print('Seconds to complete:', time.time()-t0)\n",
    "print(np.allclose(hist1,hist4))"
   ]
  },
  {
   "cell_type": "code",
   "execution_count": 7,
   "metadata": {},
   "outputs": [
    {
     "name": "stdout",
     "output_type": "stream",
     "text": [
      "Seconds to complete: 1.8271210193634033\n",
      "True\n"
     ]
    }
   ],
   "source": [
    "t0 = time.time()\n",
    "\n",
    "hist5 = count_3D_atoms_no_jit(A, x_bins, x_bins, x_bins)\n",
    "\n",
    "print('Seconds to complete:', time.time()-t0)\n",
    "print(np.allclose(hist1,hist5))"
   ]
  },
  {
   "cell_type": "code",
   "execution_count": 8,
   "metadata": {},
   "outputs": [
    {
     "name": "stdout",
     "output_type": "stream",
     "text": [
      "Seconds to complete: 0.22334837913513184\n",
      "True\n"
     ]
    }
   ],
   "source": [
    "t0 = time.time()\n",
    "\n",
    "hist6 = np.zeros((len(x_bins)-1, len(x_bins)-1, len(x_bins)-1))\n",
    "\n",
    "hist6 = count_3D_atoms_hist_outside(A, hist6, x_bins, x_bins, x_bins)\n",
    "\n",
    "print('Seconds to complete:', time.time()-t0)\n",
    "print(np.allclose(hist1,hist6))"
   ]
  },
  {
   "cell_type": "code",
   "execution_count": 9,
   "metadata": {},
   "outputs": [
    {
     "data": {
      "text/plain": [
       "array([[[0., 3., 0., ..., 0., 0., 1.],\n",
       "        [0., 1., 0., ..., 1., 1., 1.],\n",
       "        [0., 2., 0., ..., 0., 0., 0.],\n",
       "        ...,\n",
       "        [0., 0., 2., ..., 2., 0., 1.],\n",
       "        [1., 0., 0., ..., 1., 1., 2.],\n",
       "        [1., 0., 0., ..., 0., 0., 0.]],\n",
       "\n",
       "       [[0., 0., 4., ..., 2., 1., 1.],\n",
       "        [0., 1., 0., ..., 1., 1., 0.],\n",
       "        [1., 1., 1., ..., 0., 0., 0.],\n",
       "        ...,\n",
       "        [0., 0., 0., ..., 0., 1., 1.],\n",
       "        [0., 0., 0., ..., 0., 1., 0.],\n",
       "        [1., 0., 1., ..., 1., 1., 0.]],\n",
       "\n",
       "       [[2., 1., 0., ..., 0., 0., 0.],\n",
       "        [1., 0., 1., ..., 0., 0., 0.],\n",
       "        [0., 0., 1., ..., 0., 0., 0.],\n",
       "        ...,\n",
       "        [1., 1., 0., ..., 0., 1., 1.],\n",
       "        [0., 0., 0., ..., 1., 0., 1.],\n",
       "        [0., 1., 0., ..., 1., 0., 0.]],\n",
       "\n",
       "       ...,\n",
       "\n",
       "       [[0., 1., 0., ..., 0., 0., 0.],\n",
       "        [0., 0., 1., ..., 0., 0., 0.],\n",
       "        [0., 2., 0., ..., 0., 0., 2.],\n",
       "        ...,\n",
       "        [0., 0., 1., ..., 0., 1., 1.],\n",
       "        [0., 0., 0., ..., 1., 1., 0.],\n",
       "        [0., 0., 1., ..., 0., 1., 0.]],\n",
       "\n",
       "       [[0., 0., 1., ..., 2., 0., 0.],\n",
       "        [0., 2., 1., ..., 0., 0., 1.],\n",
       "        [1., 0., 0., ..., 1., 0., 0.],\n",
       "        ...,\n",
       "        [0., 0., 0., ..., 1., 0., 0.],\n",
       "        [0., 0., 0., ..., 0., 0., 1.],\n",
       "        [0., 0., 1., ..., 1., 0., 1.]],\n",
       "\n",
       "       [[2., 0., 0., ..., 0., 0., 0.],\n",
       "        [1., 0., 1., ..., 0., 0., 1.],\n",
       "        [0., 1., 1., ..., 1., 2., 0.],\n",
       "        ...,\n",
       "        [0., 0., 0., ..., 0., 1., 0.],\n",
       "        [0., 1., 0., ..., 0., 0., 1.],\n",
       "        [0., 1., 0., ..., 1., 1., 0.]]])"
      ]
     },
     "execution_count": 9,
     "metadata": {},
     "output_type": "execute_result"
    }
   ],
   "source": [
    "hist1"
   ]
  },
  {
   "cell_type": "code",
   "execution_count": null,
   "metadata": {},
   "outputs": [],
   "source": []
  }
 ],
 "metadata": {
  "kernelspec": {
   "display_name": "Python 3",
   "language": "python",
   "name": "python3"
  },
  "language_info": {
   "codemirror_mode": {
    "name": "ipython",
    "version": 3
   },
   "file_extension": ".py",
   "mimetype": "text/x-python",
   "name": "python",
   "nbconvert_exporter": "python",
   "pygments_lexer": "ipython3",
   "version": "3.6.5"
  }
 },
 "nbformat": 4,
 "nbformat_minor": 2
}
